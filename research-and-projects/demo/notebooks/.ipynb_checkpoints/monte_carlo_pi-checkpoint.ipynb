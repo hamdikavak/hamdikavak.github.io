{
 "cells": [
  {
   "cell_type": "code",
   "execution_count": 2,
   "metadata": {
    "collapsed": false
   },
   "outputs": [
    {
     "name": "stdout",
     "output_type": "stream",
     "text": [
      "PI number using  10  runs:  3.6\n",
      "PI number using  100  runs:  3.12\n",
      "PI number using  1000  runs:  3.152\n",
      "PI number using  5000  runs:  3.0984\n",
      "PI number using  10000  runs:  3.1268\n",
      "PI number using  100000  runs:  3.14828\n",
      "PI number using  10000000  runs:  3.1408988\n"
     ]
    }
   ],
   "source": [
    "# Hamdi Kavak\n",
    "# Nov 10, 2017 - 09:31PM\n",
    "# Calculating PI number using Monte Carlo Simulation approach\n",
    "\n",
    "\n",
    "# Given r is radius at (0,0)\n",
    "# Circle area formula: PI*r^2\n",
    "# Square area formula (just completely covers the circle): 2r*2r=4r^2\n",
    "\n",
    "# The ratio of randomly picked points within the square also falling within the circle is PI/4\n",
    "# Thus, the PI number can be estimated using Monte Carlo runs \n",
    "# PI=ratio of points falling within the circle * 4\n",
    "\n",
    "import random as rd\n",
    "import math as mat\n",
    "\n",
    "def monte_carlo_pi(num_of_runs):\n",
    "    r=1 # radius\n",
    "    num_of_points_within_circle = 0\n",
    "    \n",
    "    for i in range(num_of_runs):\n",
    "        point_x = rd.uniform(-1.0*r, 1.0*r) # pick x point within the square\n",
    "        point_y = rd.uniform(-1.0*r, 1.0*r) # pick y point within the square\n",
    "        \n",
    "        # calculate distance to center using hypotenuse formula\n",
    "        distance_to_center = mat.sqrt(point_x*point_x + point_y*point_y) \n",
    "        \n",
    "        # if the distance is smaller than or equal to the radius, it falls within the circle\n",
    "        if distance_to_center <=r:\n",
    "            num_of_points_within_circle = num_of_points_within_circle + 1\n",
    "    \n",
    "    estimated_pi = num_of_points_within_circle * 1.0 / num_of_runs * 4.0\n",
    "    \n",
    "    return estimated_pi\n",
    "\n",
    "\n",
    "# monte carlo runs called here\n",
    "for i in [10, 100, 1000, 5000, 10000, 100000, 10000000]:\n",
    "    pi = monte_carlo_pi(i)\n",
    "    print 'PI number using ', i , ' runs: ', pi\n",
    "        "
   ]
  }
 ],
 "metadata": {
  "kernelspec": {
   "display_name": "Python 2",
   "language": "python",
   "name": "python2"
  },
  "language_info": {
   "codemirror_mode": {
    "name": "ipython",
    "version": 2
   },
   "file_extension": ".py",
   "mimetype": "text/x-python",
   "name": "python",
   "nbconvert_exporter": "python",
   "pygments_lexer": "ipython2",
   "version": "2.7.13"
  }
 },
 "nbformat": 4,
 "nbformat_minor": 2
}
